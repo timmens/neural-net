{
 "cells": [
  {
   "cell_type": "code",
   "execution_count": 39,
   "id": "141aee34",
   "metadata": {},
   "outputs": [],
   "source": [
    "import pandas as pd"
   ]
  },
  {
   "cell_type": "code",
   "execution_count": 40,
   "id": "629e357a",
   "metadata": {},
   "outputs": [],
   "source": [
    "df = pd.read_csv(\"bld/simulation/result.csv\")"
   ]
  },
  {
   "cell_type": "code",
   "execution_count": 41,
   "id": "d700d922",
   "metadata": {},
   "outputs": [
    {
     "data": {
      "text/plain": [
       "name              fitter            n_samples\n",
       "linear            boosting          100          0.412622\n",
       "                                    1000         0.290253\n",
       "                  nnet              100          0.573576\n",
       "                                    1000         0.353440\n",
       "                  ols               100          0.369229\n",
       "                                    1000         0.262994\n",
       "nonlinear_sparse  boosting          100          0.326651\n",
       "                                    1000         0.270955\n",
       "                  nnet              100          0.383908\n",
       "                                    1000         0.432154\n",
       "                  nnet_regularized  100          0.568894\n",
       "                                    1000         0.250865\n",
       "                  ols               100          0.283395\n",
       "                                    1000         0.279424\n",
       "Name: mse, dtype: float64"
      ]
     },
     "execution_count": 41,
     "metadata": {},
     "output_type": "execute_result"
    }
   ],
   "source": [
    "df.groupby([\"name\", \"fitter\", \"n_samples\"])[\"mse\"].mean()"
   ]
  },
  {
   "cell_type": "code",
   "execution_count": 25,
   "id": "d6cbae9a",
   "metadata": {},
   "outputs": [
    {
     "data": {
      "text/plain": [
       "name              fitter  n_samples\n",
       "nonlinear_sparse  ols     100          0.332056\n",
       "                          1000         0.461439\n",
       "                          10000        0.505417\n",
       "Name: mse, dtype: float64"
      ]
     },
     "execution_count": 25,
     "metadata": {},
     "output_type": "execute_result"
    }
   ],
   "source": [
    "df.groupby([\"name\", \"fitter\", \"n_samples\"])[\"mse\"].mean()"
   ]
  },
  {
   "cell_type": "code",
   "execution_count": 15,
   "id": "10f20bf1",
   "metadata": {},
   "outputs": [
    {
     "data": {
      "text/plain": [
       "name              fitter  n_samples\n",
       "nonlinear_sparse  ols     100              9.197800\n",
       "                          1000           667.755885\n",
       "                          10000        67285.638142\n",
       "Name: mse, dtype: float64"
      ]
     },
     "execution_count": 15,
     "metadata": {},
     "output_type": "execute_result"
    }
   ],
   "source": [
    "df.groupby([\"name\", \"fitter\", \"n_samples\"])[\"mse\"].mean()"
   ]
  },
  {
   "cell_type": "code",
   "execution_count": null,
   "id": "6bec3f62",
   "metadata": {},
   "outputs": [],
   "source": []
  }
 ],
 "metadata": {
  "kernelspec": {
   "display_name": "Python 3 (ipykernel)",
   "language": "python",
   "name": "python3"
  },
  "language_info": {
   "codemirror_mode": {
    "name": "ipython",
    "version": 3
   },
   "file_extension": ".py",
   "mimetype": "text/x-python",
   "name": "python",
   "nbconvert_exporter": "python",
   "pygments_lexer": "ipython3",
   "version": "3.10.6"
  }
 },
 "nbformat": 4,
 "nbformat_minor": 5
}
