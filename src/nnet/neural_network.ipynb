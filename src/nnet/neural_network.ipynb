{
 "cells": [
  {
   "cell_type": "markdown",
   "id": "094be5be",
   "metadata": {},
   "source": [
    "# Neural Networks"
   ]
  },
  {
   "cell_type": "markdown",
   "id": "2e45a30f",
   "metadata": {},
   "source": [
    "## The Data"
   ]
  },
  {
   "cell_type": "code",
   "execution_count": null,
   "id": "a6d50d3d",
   "metadata": {},
   "outputs": [],
   "source": [
    "from nnet.data import get_mnist_data\n",
    "from nnet.data import get_batch\n",
    "from nnet.data import Data\n",
    "\n",
    "from nnet.plotting import plot_examples\n",
    "from nnet.plotting import plot_performance"
   ]
  },
  {
   "cell_type": "code",
   "execution_count": null,
   "id": "27a611bd",
   "metadata": {},
   "outputs": [],
   "source": [
    "data = get_mnist_data()"
   ]
  },
  {
   "cell_type": "code",
   "execution_count": null,
   "id": "a6f4e548",
   "metadata": {},
   "outputs": [],
   "source": [
    "plot_examples(data.train)"
   ]
  },
  {
   "cell_type": "markdown",
   "id": "49874a7f",
   "metadata": {},
   "source": [
    "## The Network"
   ]
  },
  {
   "cell_type": "code",
   "execution_count": null,
   "id": "ede8e74c",
   "metadata": {},
   "outputs": [],
   "source": [
    "from nnet.network import get_layer\n",
    "from nnet.network import get_forward\n",
    "from nnet.network import get_accuracy\n",
    "from nnet.network import get_update_step\n",
    "from nnet.network import get_optimizer_triplet\n",
    "from nnet.network import get_start_params\n",
    "from nnet.network import get_loss\n",
    "from nnet.network import get_fitting_function\n",
    "\n",
    "from tqdm.auto import tqdm\n",
    "\n",
    "import jax\n",
    "key = jax.random.PRNGKey(1)"
   ]
  },
  {
   "cell_type": "markdown",
   "id": "bdba5e63",
   "metadata": {},
   "source": [
    "## Building the Network"
   ]
  },
  {
   "cell_type": "code",
   "execution_count": null,
   "id": "4b34dfa8",
   "metadata": {},
   "outputs": [],
   "source": [
    "layer = get_layer(activation_func=\"sigmoid\")"
   ]
  },
  {
   "cell_type": "code",
   "execution_count": null,
   "id": "7de8ef47",
   "metadata": {},
   "outputs": [],
   "source": [
    "forward_pass = get_forward(layer)"
   ]
  },
  {
   "cell_type": "code",
   "execution_count": null,
   "id": "3522f187",
   "metadata": {},
   "outputs": [],
   "source": [
    "loss_func = get_loss(forward_pass, loss_type=\"mean_square\")"
   ]
  },
  {
   "cell_type": "code",
   "execution_count": null,
   "id": "359c033b",
   "metadata": {},
   "outputs": [],
   "source": [
    "accuracy = get_accuracy(forward_pass)"
   ]
  },
  {
   "cell_type": "code",
   "execution_count": null,
   "id": "7412218e",
   "metadata": {},
   "outputs": [],
   "source": [
    "image_dim = 28  # number of pixels\n",
    "layer_sizes = [image_dim ** 2, 28, 28, 10]\n",
    "\n",
    "start_params = get_start_params(layer_sizes, key)"
   ]
  },
  {
   "cell_type": "code",
   "execution_count": null,
   "id": "d1a5e718",
   "metadata": {},
   "outputs": [],
   "source": [
    "opt_state, opt_update, get_params = get_optimizer_triplet(\"sgd\", start_params=start_params, step_size=0.01)"
   ]
  },
  {
   "cell_type": "code",
   "execution_count": null,
   "id": "1d4c46de",
   "metadata": {},
   "outputs": [],
   "source": [
    "update = get_update_step(get_params, opt_update, loss_func)"
   ]
  },
  {
   "cell_type": "code",
   "execution_count": null,
   "id": "1c9be761",
   "metadata": {},
   "outputs": [],
   "source": [
    "fit_network = get_fitting_function(data, update, accuracy, get_params, tqdm=tqdm)"
   ]
  },
  {
   "cell_type": "code",
   "execution_count": null,
   "id": "f536b7d4",
   "metadata": {},
   "outputs": [],
   "source": [
    "result = fit_network(n_epochs=50, batch_size=100, opt_state=opt_state, verbose=False)"
   ]
  },
  {
   "cell_type": "code",
   "execution_count": null,
   "id": "2da359d3",
   "metadata": {},
   "outputs": [],
   "source": [
    "predictions = forward_pass(result[\"params\"], data.test.images)\n",
    "predictions = predictions.argmax(axis=1)"
   ]
  },
  {
   "cell_type": "code",
   "execution_count": null,
   "id": "1012dff2",
   "metadata": {},
   "outputs": [],
   "source": [
    "wrong = jax.numpy.where(predictions != data.test.labels)[0]"
   ]
  },
  {
   "cell_type": "code",
   "execution_count": null,
   "id": "2912dc74",
   "metadata": {},
   "outputs": [],
   "source": [
    "_data = Data(images=data.test.images[wrong], labels=data.test.labels[wrong], predictions=predictions[wrong])"
   ]
  },
  {
   "cell_type": "code",
   "execution_count": null,
   "id": "cd679f91",
   "metadata": {},
   "outputs": [],
   "source": [
    "len(wrong) / len(data.test.labels)"
   ]
  },
  {
   "cell_type": "code",
   "execution_count": null,
   "id": "e734d429",
   "metadata": {},
   "outputs": [],
   "source": [
    "plot_examples(_data)"
   ]
  },
  {
   "cell_type": "code",
   "execution_count": null,
   "id": "72a21de2",
   "metadata": {},
   "outputs": [],
   "source": [
    "plot_performance(result[\"log\"])"
   ]
  }
 ],
 "metadata": {
  "kernelspec": {
   "display_name": "Python 3 (ipykernel)",
   "language": "python",
   "name": "python3"
  },
  "language_info": {
   "codemirror_mode": {
    "name": "ipython",
    "version": 3
   },
   "file_extension": ".py",
   "mimetype": "text/x-python",
   "name": "python",
   "nbconvert_exporter": "python",
   "pygments_lexer": "ipython3",
   "version": "3.10.4"
  }
 },
 "nbformat": 4,
 "nbformat_minor": 5
}
